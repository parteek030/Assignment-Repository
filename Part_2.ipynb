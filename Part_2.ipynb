{
  "nbformat": 4,
  "nbformat_minor": 0,
  "metadata": {
    "colab": {
      "provenance": []
    },
    "kernelspec": {
      "name": "python3",
      "display_name": "Python 3"
    },
    "language_info": {
      "name": "python"
    }
  },
  "cells": [
    {
      "cell_type": "code",
      "execution_count": 4,
      "metadata": {
        "colab": {
          "base_uri": "https://localhost:8080/"
        },
        "id": "oPfc_-_8Lu6B",
        "outputId": "a2e0e423-c81d-4c64-a158-1300671508fc"
      },
      "outputs": [
        {
          "output_type": "stream",
          "name": "stdout",
          "text": [
            "Requirement already satisfied: groq in /usr/local/lib/python3.12/dist-packages (0.31.1)\n",
            "Requirement already satisfied: anyio<5,>=3.5.0 in /usr/local/lib/python3.12/dist-packages (from groq) (4.10.0)\n",
            "Requirement already satisfied: distro<2,>=1.7.0 in /usr/local/lib/python3.12/dist-packages (from groq) (1.9.0)\n",
            "Requirement already satisfied: httpx<1,>=0.23.0 in /usr/local/lib/python3.12/dist-packages (from groq) (0.28.1)\n",
            "Requirement already satisfied: pydantic<3,>=1.9.0 in /usr/local/lib/python3.12/dist-packages (from groq) (2.11.7)\n",
            "Requirement already satisfied: sniffio in /usr/local/lib/python3.12/dist-packages (from groq) (1.3.1)\n",
            "Requirement already satisfied: typing-extensions<5,>=4.10 in /usr/local/lib/python3.12/dist-packages (from groq) (4.15.0)\n",
            "Requirement already satisfied: idna>=2.8 in /usr/local/lib/python3.12/dist-packages (from anyio<5,>=3.5.0->groq) (3.10)\n",
            "Requirement already satisfied: certifi in /usr/local/lib/python3.12/dist-packages (from httpx<1,>=0.23.0->groq) (2025.8.3)\n",
            "Requirement already satisfied: httpcore==1.* in /usr/local/lib/python3.12/dist-packages (from httpx<1,>=0.23.0->groq) (1.0.9)\n",
            "Requirement already satisfied: h11>=0.16 in /usr/local/lib/python3.12/dist-packages (from httpcore==1.*->httpx<1,>=0.23.0->groq) (0.16.0)\n",
            "Requirement already satisfied: annotated-types>=0.6.0 in /usr/local/lib/python3.12/dist-packages (from pydantic<3,>=1.9.0->groq) (0.7.0)\n",
            "Requirement already satisfied: pydantic-core==2.33.2 in /usr/local/lib/python3.12/dist-packages (from pydantic<3,>=1.9.0->groq) (2.33.2)\n",
            "Requirement already satisfied: typing-inspection>=0.4.0 in /usr/local/lib/python3.12/dist-packages (from pydantic<3,>=1.9.0->groq) (0.4.1)\n"
          ]
        }
      ],
      "source": [
        "! pip install groq\n",
        "from groq import Groq\n",
        "import json\n"
      ]
    },
    {
      "cell_type": "code",
      "source": [
        "client = Groq(api_key=\"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\")\n"
      ],
      "metadata": {
        "id": "B-XUyH7jMF1S"
      },
      "execution_count": 5,
      "outputs": []
    },
    {
      "cell_type": "code",
      "source": [
        "# Function schema definition for structured extraction\n",
        "functions = [\n",
        "    {\n",
        "        \"name\": \"extract_user_info\",\n",
        "        \"description\": \"Extract personal details from chat conversation\",\n",
        "        \"parameters\": {\n",
        "            \"type\": \"object\",\n",
        "            \"properties\": {\n",
        "                \"name\": {\"type\": \"string\", \"description\": \"Full name of the user\"},\n",
        "                \"email\": {\"type\": \"string\", \"description\": \"Email address\"},\n",
        "                \"phone\": {\"type\": \"string\", \"description\": \"Phone number\"},\n",
        "                \"location\": {\"type\": \"string\", \"description\": \"Location or city\"},\n",
        "                \"age\": {\"type\": \"integer\", \"description\": \"Age in years\"}\n",
        "            },\n",
        "            \"required\": [\"name\", \"email\", \"phone\", \"location\", \"age\"]\n",
        "        }\n",
        "    }\n",
        "]\n"
      ],
      "metadata": {
        "id": "PnZnKfvXMOfq"
      },
      "execution_count": 6,
      "outputs": []
    },
    {
      "cell_type": "code",
      "source": [
        "def extract_info_from_chat(chat_text, model=\"llama-3.1-8b-instant\"):\n",
        "    response = client.chat.completions.create(\n",
        "        model=model,\n",
        "        messages=[\n",
        "            {\"role\": \"system\", \"content\": \"You are an information extraction assistant.\"},\n",
        "            {\"role\": \"user\", \"content\": chat_text}\n",
        "        ],\n",
        "        functions=functions,\n",
        "        function_call={\"name\": \"extract_user_info\"}\n",
        "    )\n",
        "\n",
        "    # Get structured function call output\n",
        "    msg = response.choices[0].message\n",
        "    if msg.function_call and msg.function_call.arguments:\n",
        "      function_args = msg.function_call.arguments\n",
        "    else:\n",
        "      function_args = \"{}\"\n",
        "\n",
        "    data = json.loads(function_args)\n",
        "\n",
        "\n",
        "    return data\n"
      ],
      "metadata": {
        "id": "LF1009k7MXMH"
      },
      "execution_count": 7,
      "outputs": []
    },
    {
      "cell_type": "code",
      "source": [
        "sample_chats = [\n",
        "    \"Hello, my name is John Doe. I live in New York. You can reach me at john@example.com or call 555-1234. I'm 29 years old.\",\n",
        "    \"Hi, I'm Alice. Email: alice99@mail.com, Phone: 9876543210. I'm 34 years old and currently living in London.\",\n",
        "    \"This is Raj from Bangalore, 41 years old. My contact is rajkumar@mail.in and phone is 9090909090.\"\n",
        "]\n",
        "\n",
        "for i, chat in enumerate(sample_chats, 1):\n",
        "    extracted = extract_info_from_chat(chat)\n",
        "    print(f\"\\n--- Chat {i} ---\")\n",
        "    print(\"Input:\", chat)\n",
        "    print(\"Extracted JSON:\", extracted)\n"
      ],
      "metadata": {
        "colab": {
          "base_uri": "https://localhost:8080/"
        },
        "id": "SijGUCapMd_q",
        "outputId": "4b3bcb38-8509-4009-83ae-d33aed56becb"
      },
      "execution_count": 8,
      "outputs": [
        {
          "output_type": "stream",
          "name": "stdout",
          "text": [
            "\n",
            "--- Chat 1 ---\n",
            "Input: Hello, my name is John Doe. I live in New York. You can reach me at john@example.com or call 555-1234. I'm 29 years old.\n",
            "Extracted JSON: {'age': 29, 'email': 'john@example.com', 'location': 'New York', 'name': 'John Doe', 'phone': '555-1234'}\n",
            "\n",
            "--- Chat 2 ---\n",
            "Input: Hi, I'm Alice. Email: alice99@mail.com, Phone: 9876543210. I'm 34 years old and currently living in London.\n",
            "Extracted JSON: {'age': 34, 'email': 'alice99@mail.com', 'location': 'London', 'name': 'Alice', 'phone': '9876543210'}\n",
            "\n",
            "--- Chat 3 ---\n",
            "Input: This is Raj from Bangalore, 41 years old. My contact is rajkumar@mail.in and phone is 9090909090.\n",
            "Extracted JSON: {'age': 41, 'email': 'rajkumar@mail.in', 'location': 'Bangalore', 'name': 'Raj', 'phone': '9090909090'}\n"
          ]
        }
      ]
    },
    {
      "cell_type": "code",
      "source": [
        "from jsonschema import validate, ValidationError\n",
        "\n",
        "# Define schema for validation (same as function parameters)\n",
        "schema = {\n",
        "    \"type\": \"object\",\n",
        "    \"properties\": {\n",
        "        \"name\": {\"type\": \"string\"},\n",
        "        \"email\": {\"type\": \"string\"},\n",
        "        \"phone\": {\"type\": \"string\"},\n",
        "        \"location\": {\"type\": \"string\"},\n",
        "        \"age\": {\"type\": \"integer\"}\n",
        "    },\n",
        "    \"required\": [\"name\", \"email\", \"phone\", \"location\", \"age\"]\n",
        "}\n",
        "\n",
        "for i, chat in enumerate(sample_chats, 1):\n",
        "    extracted = extract_info_from_chat(chat)\n",
        "    print(f\"\\n--- Validating Chat {i} ---\")\n",
        "    try:\n",
        "        validate(instance=extracted, schema=schema)\n",
        "        print(\"✅ Valid output:\", extracted)\n",
        "    except ValidationError as e:\n",
        "        print(\"❌ Validation failed:\", e)\n"
      ],
      "metadata": {
        "colab": {
          "base_uri": "https://localhost:8080/"
        },
        "id": "Ua0Ibl2AMkkk",
        "outputId": "16712a73-b703-4614-d62a-b007cda3350f"
      },
      "execution_count": 9,
      "outputs": [
        {
          "output_type": "stream",
          "name": "stdout",
          "text": [
            "\n",
            "--- Validating Chat 1 ---\n",
            "✅ Valid output: {'age': 29, 'email': 'john@example.com', 'location': 'New York', 'name': 'John Doe', 'phone': '555-1234'}\n",
            "\n",
            "--- Validating Chat 2 ---\n",
            "✅ Valid output: {'age': 34, 'email': 'alice99@mail.com', 'location': 'London', 'name': 'Alice', 'phone': '9876543210'}\n",
            "\n",
            "--- Validating Chat 3 ---\n",
            "✅ Valid output: {'age': 41, 'email': 'rajkumar@mail.in', 'location': 'Bangalore', 'name': 'Rajkumar', 'phone': '9090909090'}\n"
          ]
        }
      ]
    },
    {
      "cell_type": "code",
      "source": [],
      "metadata": {
        "id": "es1c5y-GMufl"
      },
      "execution_count": null,
      "outputs": []
    }
  ]
}
