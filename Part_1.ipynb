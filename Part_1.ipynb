{
  "nbformat": 4,
  "nbformat_minor": 0,
  "metadata": {
    "colab": {
      "provenance": []
    },
    "kernelspec": {
      "name": "python3",
      "display_name": "Python 3"
    },
    "language_info": {
      "name": "python"
    }
  },
  "cells": [
    {
      "cell_type": "code",
      "execution_count": 21,
      "metadata": {
        "colab": {
          "base_uri": "https://localhost:8080/"
        },
        "id": "_m8bpKatm9JO",
        "outputId": "2bef2c24-5cd7-4830-fcb5-d21e5f2ee266"
      },
      "outputs": [
        {
          "output_type": "stream",
          "name": "stdout",
          "text": [
            "Requirement already satisfied: groq in /usr/local/lib/python3.12/dist-packages (0.31.1)\n",
            "Requirement already satisfied: anyio<5,>=3.5.0 in /usr/local/lib/python3.12/dist-packages (from groq) (4.10.0)\n",
            "Requirement already satisfied: distro<2,>=1.7.0 in /usr/local/lib/python3.12/dist-packages (from groq) (1.9.0)\n",
            "Requirement already satisfied: httpx<1,>=0.23.0 in /usr/local/lib/python3.12/dist-packages (from groq) (0.28.1)\n",
            "Requirement already satisfied: pydantic<3,>=1.9.0 in /usr/local/lib/python3.12/dist-packages (from groq) (2.11.7)\n",
            "Requirement already satisfied: sniffio in /usr/local/lib/python3.12/dist-packages (from groq) (1.3.1)\n",
            "Requirement already satisfied: typing-extensions<5,>=4.10 in /usr/local/lib/python3.12/dist-packages (from groq) (4.15.0)\n",
            "Requirement already satisfied: idna>=2.8 in /usr/local/lib/python3.12/dist-packages (from anyio<5,>=3.5.0->groq) (3.10)\n",
            "Requirement already satisfied: certifi in /usr/local/lib/python3.12/dist-packages (from httpx<1,>=0.23.0->groq) (2025.8.3)\n",
            "Requirement already satisfied: httpcore==1.* in /usr/local/lib/python3.12/dist-packages (from httpx<1,>=0.23.0->groq) (1.0.9)\n",
            "Requirement already satisfied: h11>=0.16 in /usr/local/lib/python3.12/dist-packages (from httpcore==1.*->httpx<1,>=0.23.0->groq) (0.16.0)\n",
            "Requirement already satisfied: annotated-types>=0.6.0 in /usr/local/lib/python3.12/dist-packages (from pydantic<3,>=1.9.0->groq) (0.7.0)\n",
            "Requirement already satisfied: pydantic-core==2.33.2 in /usr/local/lib/python3.12/dist-packages (from pydantic<3,>=1.9.0->groq) (2.33.2)\n",
            "Requirement already satisfied: typing-inspection>=0.4.0 in /usr/local/lib/python3.12/dist-packages (from pydantic<3,>=1.9.0->groq) (0.4.1)\n"
          ]
        }
      ],
      "source": [
        "\n",
        "!pip install groq\n",
        "\n",
        "from groq import Groq\n",
        "import os\n"
      ]
    },
    {
      "cell_type": "code",
      "source": [
        "\n",
        "client = Groq(api_key=\"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\")\n",
        "\n"
      ],
      "metadata": {
        "id": "V23WS4xvnGNM"
      },
      "execution_count": 22,
      "outputs": []
    },
    {
      "cell_type": "markdown",
      "source": [
        "From This cell, code for Task 1 start. Above are the api keys and installation of grok\n"
      ],
      "metadata": {
        "id": "1-wDaMvaErbO"
      }
    },
    {
      "cell_type": "code",
      "source": [
        "class ConversationManager:\n",
        "    def __init__(self, model=\"llama-3.1-8b-instant\", k=3):\n",
        "        self.model = model\n",
        "        self.history = []\n",
        "        self.summaries = []\n",
        "        self.counter = 0\n",
        "        self.k = k\n",
        "\n",
        "    def add_message(self, role, content):\n",
        "        \"\"\"Add a user or assistant message\"\"\"\n",
        "        self.history.append({\"role\": role, \"content\": content})\n",
        "        self.counter += 1\n",
        "\n",
        "    def get_history_limited(self, n=None, char_limit=None, word_limit=None):\n",
        "        \"\"\"Return truncated conversation history\"\"\"\n",
        "        if n:  # limit by number of turns\n",
        "            return self.history[-n:]\n",
        "        elif char_limit:  # limit by characters\n",
        "            text = \"\"\n",
        "            truncated = []\n",
        "            for msg in reversed(self.history):\n",
        "                if len(text) + len(msg[\"content\"]) > char_limit:\n",
        "                    break\n",
        "                truncated.insert(0, msg)\n",
        "                text += msg[\"content\"]\n",
        "            return truncated\n",
        "        elif word_limit:  # limit by words\n",
        "            words = 0\n",
        "            truncated = []\n",
        "            for msg in reversed(self.history):\n",
        "                msg_words = len(msg[\"content\"].split())\n",
        "                if words + msg_words > word_limit:\n",
        "                    break\n",
        "                truncated.insert(0, msg)\n",
        "                words += msg_words\n",
        "            return truncated\n",
        "        else:\n",
        "            return self.history\n",
        "\n",
        "    def summarize_history(self):\n",
        "        \"\"\"Summarize the conversation using Groq API\"\"\"\n",
        "        response = client.chat.completions.create(\n",
        "            model=self.model,\n",
        "            messages=[\n",
        "                {\"role\": \"system\", \"content\": \"Summarize the following chat history briefly:\"},\n",
        "                {\"role\": \"user\", \"content\": str(self.history)}\n",
        "            ]\n",
        "        )\n",
        "        summary = response.choices[0].message.content\n",
        "        self.summaries.append(summary)\n",
        "        # Replace history with summary for conciseness\n",
        "        self.history = [{\"role\": \"system\", \"content\": f\"Summary so far: {summary}\"}]\n",
        "        print(\"🔹 Conversation summarized!\")\n",
        "        return summary\n",
        "\n",
        "    def maybe_summarize(self):\n",
        "        \"\"\"Summarize after every k-th message\"\"\"\n",
        "        if self.counter % self.k == 0:\n",
        "            return self.summarize_history()\n",
        "        return None\n"
      ],
      "metadata": {
        "id": "ziEtfo388BO2"
      },
      "execution_count": 23,
      "outputs": []
    },
    {
      "cell_type": "code",
      "source": [
        "# Create manager with summarization every 3rd message\n",
        "manager = ConversationManager(model=\"llama-3.1-8b-instant\", k=3)\n",
        "\n",
        "\n",
        "sample_messages = [\n",
        "    (\"user\", \"Hi, I need help with Python loops.\"),\n",
        "    (\"assistant\", \"Sure! Python loops include for and while loops.\"),\n",
        "    (\"user\", \"Can you explain with a for loop example?\"),\n",
        "    (\"assistant\", \"Yes. Example: for i in range(5): print(i)\"),\n",
        "    (\"user\", \"Nice. What about while loops?\"),\n",
        "    (\"assistant\", \"While loops repeat until a condition is false.\"),\n",
        "    (\"user\", \"Can I use break inside loops?\"),\n",
        "    (\"assistant\", \"Yes, break exits the loop early.\")\n",
        "]\n",
        "\n",
        "for role, content in sample_messages:\n",
        "    manager.add_message(role, content)\n",
        "    summary = manager.maybe_summarize()\n",
        "    if summary:\n",
        "        print(\"Summary after auto-trigger:\", summary)\n",
        "\n",
        "# Show truncated histories\n",
        "print(\"\\n--- Last 2 turns ---\")\n",
        "print(manager.get_history_limited(n=2))\n",
        "\n",
        "print(\"\\n--- Limit by 100 characters ---\")\n",
        "print(manager.get_history_limited(char_limit=100))\n",
        "\n",
        "print(\"\\n--- Limit by 30 words ---\")\n",
        "print(manager.get_history_limited(word_limit=30))\n",
        "\n",
        "print(\"\\n--- Stored summaries ---\")\n",
        "print(manager.summaries)\n"
      ],
      "metadata": {
        "colab": {
          "base_uri": "https://localhost:8080/"
        },
        "id": "62cK1p7B-IXp",
        "outputId": "77e4dd8c-5904-48a3-8693-d8a6c1acab8c"
      },
      "execution_count": 24,
      "outputs": [
        {
          "output_type": "stream",
          "name": "stdout",
          "text": [
            "🔹 Conversation summarized!\n",
            "Summary after auto-trigger: Here's a brief summary of the chat history:\n",
            "\n",
            "A user requested help with Python loops and started with a basic inquiry. The assistant then explained that Python loops include for and while loops. The user then asked for an example of a for loop.\n",
            "🔹 Conversation summarized!\n",
            "Summary after auto-trigger: A user requested help with Python loops. The assistant explained that Python loops include for and while loops. Examples of each were provided, including a basic for loop and a description of how while loops work.\n",
            "\n",
            "--- Last 2 turns ---\n",
            "[{'role': 'user', 'content': 'Can I use break inside loops?'}, {'role': 'assistant', 'content': 'Yes, break exits the loop early.'}]\n",
            "\n",
            "--- Limit by 100 characters ---\n",
            "[{'role': 'user', 'content': 'Can I use break inside loops?'}, {'role': 'assistant', 'content': 'Yes, break exits the loop early.'}]\n",
            "\n",
            "--- Limit by 30 words ---\n",
            "[{'role': 'user', 'content': 'Can I use break inside loops?'}, {'role': 'assistant', 'content': 'Yes, break exits the loop early.'}]\n",
            "\n",
            "--- Stored summaries ---\n",
            "[\"Here's a brief summary of the chat history:\\n\\nA user requested help with Python loops and started with a basic inquiry. The assistant then explained that Python loops include for and while loops. The user then asked for an example of a for loop.\", 'A user requested help with Python loops. The assistant explained that Python loops include for and while loops. Examples of each were provided, including a basic for loop and a description of how while loops work.']\n"
          ]
        }
      ]
    },
    {
      "cell_type": "code",
      "source": [],
      "metadata": {
        "id": "bKvMEa_D-9QZ"
      },
      "execution_count": 24,
      "outputs": []
    },
    {
      "cell_type": "code",
      "source": [
        "from groq import Groq\n",
        "import json\n"
      ],
      "metadata": {
        "id": "cZAoTS4pAgpG"
      },
      "execution_count": 25,
      "outputs": []
    },
    {
      "cell_type": "code",
      "source": [
        "client = Groq(api_key=\"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\")\n"
      ],
      "metadata": {
        "id": "09oWYrElC6fN"
      },
      "execution_count": 26,
      "outputs": []
    },
    {
      "cell_type": "markdown",
      "source": [
        "From here, code for task 2 starts\n"
      ],
      "metadata": {
        "id": "ZDjRdkuEFBlO"
      }
    },
    {
      "cell_type": "code",
      "source": [
        "# Function schema definition for structured extraction\n",
        "functions = [\n",
        "    {\n",
        "        \"name\": \"extract_user_info\",\n",
        "        \"description\": \"Extract personal details from chat conversation\",\n",
        "        \"parameters\": {\n",
        "            \"type\": \"object\",\n",
        "            \"properties\": {\n",
        "                \"name\": {\"type\": \"string\", \"description\": \"Full name of the user\"},\n",
        "                \"email\": {\"type\": \"string\", \"description\": \"Email address\"},\n",
        "                \"phone\": {\"type\": \"string\", \"description\": \"Phone number\"},\n",
        "                \"location\": {\"type\": \"string\", \"description\": \"Location or city\"},\n",
        "                \"age\": {\"type\": \"integer\", \"description\": \"Age in years\"}\n",
        "            },\n",
        "            \"required\": [\"name\", \"email\", \"phone\", \"location\", \"age\"]\n",
        "        }\n",
        "    }\n",
        "]\n"
      ],
      "metadata": {
        "id": "sewBiqvMDA2h"
      },
      "execution_count": 27,
      "outputs": []
    },
    {
      "cell_type": "code",
      "source": [
        "def extract_info_from_chat(chat_text, model=\"llama-3.1-8b-instant\"):\n",
        "    response = client.chat.completions.create(\n",
        "        model=model,\n",
        "        messages=[\n",
        "            {\"role\": \"system\", \"content\": \"You are an information extraction assistant.\"},\n",
        "            {\"role\": \"user\", \"content\": chat_text}\n",
        "        ],\n",
        "        functions=functions,\n",
        "        function_call={\"name\": \"extract_user_info\"}\n",
        "    )\n",
        "\n",
        "    # Get structured function call output\n",
        "    msg = response.choices[0].message\n",
        "    if msg.function_call and msg.function_call.arguments:\n",
        "      function_args = msg.function_call.arguments\n",
        "    else:\n",
        "      function_args = \"{}\"\n",
        "\n",
        "    data = json.loads(function_args)\n",
        "\n",
        "\n",
        "    return data\n"
      ],
      "metadata": {
        "id": "Lwm0t63HDDUR"
      },
      "execution_count": 28,
      "outputs": []
    },
    {
      "cell_type": "code",
      "source": [
        "sample_chats = [\n",
        "    \"Hello, my name is John Doe. I live in New York. You can reach me at john@example.com or call 555-1234. I'm 29 years old.\",\n",
        "    \"Hi, I'm Alice. Email: alice99@mail.com, Phone: 9876543210. I'm 34 years old and currently living in London.\",\n",
        "    \"This is Raj from Bangalore, 41 years old. My contact is rajkumar@mail.in and phone is 9090909090.\"\n",
        "]\n",
        "\n",
        "for i, chat in enumerate(sample_chats, 1):\n",
        "    extracted = extract_info_from_chat(chat)\n",
        "    print(f\"\\n--- Chat {i} ---\")\n",
        "    print(\"Input:\", chat)\n",
        "    print(\"Extracted JSON:\", extracted)\n"
      ],
      "metadata": {
        "colab": {
          "base_uri": "https://localhost:8080/"
        },
        "id": "rkv6PrxPDHYu",
        "outputId": "93531110-a73c-4315-f9cb-c30c85d5f058"
      },
      "execution_count": 29,
      "outputs": [
        {
          "output_type": "stream",
          "name": "stdout",
          "text": [
            "\n",
            "--- Chat 1 ---\n",
            "Input: Hello, my name is John Doe. I live in New York. You can reach me at john@example.com or call 555-1234. I'm 29 years old.\n",
            "Extracted JSON: {'age': 29, 'email': 'john@example.com', 'location': 'New York', 'name': 'John Doe', 'phone': '555-1234'}\n",
            "\n",
            "--- Chat 2 ---\n",
            "Input: Hi, I'm Alice. Email: alice99@mail.com, Phone: 9876543210. I'm 34 years old and currently living in London.\n",
            "Extracted JSON: {'age': 34, 'email': 'alice99@mail.com', 'location': 'London', 'name': 'Alice', 'phone': '9876543210'}\n",
            "\n",
            "--- Chat 3 ---\n",
            "Input: This is Raj from Bangalore, 41 years old. My contact is rajkumar@mail.in and phone is 9090909090.\n",
            "Extracted JSON: {'age': 41, 'email': 'rajkumar@mail.in', 'location': 'Bangalore', 'name': 'Raj', 'phone': '9090909090'}\n"
          ]
        }
      ]
    },
    {
      "cell_type": "code",
      "source": [
        "from jsonschema import validate, ValidationError\n",
        "\n",
        "# Define schema for validation (same as function parameters)\n",
        "schema = {\n",
        "    \"type\": \"object\",\n",
        "    \"properties\": {\n",
        "        \"name\": {\"type\": \"string\"},\n",
        "        \"email\": {\"type\": \"string\"},\n",
        "        \"phone\": {\"type\": \"string\"},\n",
        "        \"location\": {\"type\": \"string\"},\n",
        "        \"age\": {\"type\": \"integer\"}\n",
        "    },\n",
        "    \"required\": [\"name\", \"email\", \"phone\", \"location\", \"age\"]\n",
        "}\n",
        "\n",
        "for i, chat in enumerate(sample_chats, 1):\n",
        "    extracted = extract_info_from_chat(chat)\n",
        "    print(f\"\\n--- Validating Chat {i} ---\")\n",
        "    try:\n",
        "        validate(instance=extracted, schema=schema)\n",
        "        print(\"✅ Valid output:\", extracted)\n",
        "    except ValidationError as e:\n",
        "        print(\"❌ Validation failed:\", e)\n"
      ],
      "metadata": {
        "colab": {
          "base_uri": "https://localhost:8080/"
        },
        "id": "hfMcAPLCDKem",
        "outputId": "d8f929f5-ebd8-40f0-c8b4-cb39d47bee11"
      },
      "execution_count": 30,
      "outputs": [
        {
          "output_type": "stream",
          "name": "stdout",
          "text": [
            "\n",
            "--- Validating Chat 1 ---\n",
            "✅ Valid output: {'age': 29, 'email': 'john@example.com', 'location': 'New York', 'name': 'John Doe', 'phone': '555-1234'}\n",
            "\n",
            "--- Validating Chat 2 ---\n",
            "✅ Valid output: {'age': 34, 'email': 'alice99@mail.com', 'location': 'London', 'name': 'Alice', 'phone': '9876543210'}\n",
            "\n",
            "--- Validating Chat 3 ---\n",
            "✅ Valid output: {'age': 41, 'email': 'rajkumar@mail.in', 'location': 'Bangalore', 'name': 'Raj', 'phone': '9090909090'}\n"
          ]
        }
      ]
    },
    {
      "cell_type": "code",
      "source": [],
      "metadata": {
        "id": "uDLP2VTtD7Ru"
      },
      "execution_count": 30,
      "outputs": []
    }
  ]
}
